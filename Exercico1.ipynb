{
 "cells": [
  {
   "cell_type": "code",
   "execution_count": 2,
   "metadata": {},
   "outputs": [
    {
     "name": "stdout",
     "output_type": "stream",
     "text": [
      "Eu tenho 0 balas\n",
      "Eu tenho 1 balas\n",
      "Eu tenho 2 balas\n",
      "Eu tenho 3 balas\n",
      "Eu tenho 4 balas\n"
     ]
    }
   ],
   "source": [
    "balas = 0\n",
    "\n",
    "while balas < 5:\n",
    "    print(\"Eu tenho\", balas, \"balas\")\n",
    "    balas = balas + 1\n",
    "    "
   ]
  },
  {
   "cell_type": "code",
   "execution_count": 1,
   "metadata": {},
   "outputs": [
    {
     "name": "stdout",
     "output_type": "stream",
     "text": [
      "Ainda não está cheio, tenho 0 litros de água no balde\n",
      "Ainda não está cheio, tenho 1 litros de água no balde\n",
      "Ainda não está cheio, tenho 2 litros de água no balde\n",
      "Ainda não está cheio, tenho 3 litros de água no balde\n",
      "Ainda não está cheio, tenho 4 litros de água no balde\n",
      "O balde está cheio!\n"
     ]
    }
   ],
   "source": [
    "agua_no_balde = 0\n",
    "balde_cheio = 5\n",
    "\n",
    "while agua_no_balde < balde_cheio:\n",
    "    print(\"Ainda não está cheio, tenho\", agua_no_balde,\"litros de água no balde\")\n",
    "    agua_no_balde += 1\n",
    "\n",
    "print(\"O balde está cheio!\")"
   ]
  },
  {
   "cell_type": "markdown",
   "metadata": {},
   "source": [
    "\n",
    "Exercício 1: Contagem Regressiva Simples\n",
    "Este exercício pede para criar um contador regressivo de 5 até 1.\n"
   ]
  },
  {
   "cell_type": "code",
   "execution_count": 68,
   "metadata": {},
   "outputs": [
    {
     "name": "stdout",
     "output_type": "stream",
     "text": [
      "A contagem é 5\n",
      "A contagem é 4\n",
      "A contagem é 3\n",
      "A contagem é 2\n",
      "A contagem é 1\n",
      "A contagem é 0\n",
      "Seu tempo acabou\n"
     ]
    }
   ],
   "source": [
    "contador = 5\n",
    "\n",
    "while contador >= 0:\n",
    "    print(f\"A contagem é {contador}\")\n",
    "    contador-= 1\n",
    "print(\"Seu tempo acabou\")"
   ]
  },
  {
   "cell_type": "markdown",
   "metadata": {},
   "source": [
    "Exercício 2: Tabuada de Multiplicação\n",
    "Neste exercício, o programa calcula e exibe a tabuada de multiplicação de um número escolhido pelo usuário."
   ]
  },
  {
   "cell_type": "code",
   "execution_count": 61,
   "metadata": {},
   "outputs": [
    {
     "name": "stdout",
     "output_type": "stream",
     "text": [
      "1 x 0 = 0\n",
      "1 x 1 = 1\n",
      "1 x 2 = 2\n",
      "1 x 3 = 3\n",
      "1 x 4 = 4\n",
      "1 x 5 = 5\n",
      "1 x 6 = 6\n",
      "1 x 7 = 7\n",
      "1 x 8 = 8\n",
      "1 x 9 = 9\n",
      "1 x 10 = 10\n",
      "Final\n"
     ]
    }
   ],
   "source": [
    "numero = int(input(\"Digite um número: \"))\n",
    "contador= 0\n",
    "\n",
    "while contador <= 10: \n",
    "    resultado = numero * contador\n",
    "    print(f\"{numero} x {contador} = {resultado}\")\n",
    "    contador += 1\n",
    "\n",
    "print(\"Final\")\n",
    "    \n",
    "    \n"
   ]
  },
  {
   "cell_type": "code",
   "execution_count": null,
   "metadata": {},
   "outputs": [],
   "source": []
  }
 ],
 "metadata": {
  "kernelspec": {
   "display_name": "Python 3",
   "language": "python",
   "name": "python3"
  },
  "language_info": {
   "codemirror_mode": {
    "name": "ipython",
    "version": 3
   },
   "file_extension": ".py",
   "mimetype": "text/x-python",
   "name": "python",
   "nbconvert_exporter": "python",
   "pygments_lexer": "ipython3",
   "version": "3.12.4"
  }
 },
 "nbformat": 4,
 "nbformat_minor": 2
}
